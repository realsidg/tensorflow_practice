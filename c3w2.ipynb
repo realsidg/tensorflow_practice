{
 "cells": [
  {
   "cell_type": "code",
   "execution_count": null,
   "metadata": {
    "pycharm": {
     "name": "#%%\n"
    }
   },
   "outputs": [],
   "source": [
    "import gdown\n",
    "\n",
    "gdown.download(id='1rX10xeI3eUJmOLsc4pOPY6AnCLO8DxNj', output='D:\\\\Other\\\\datasets\\\\')"
   ]
  },
  {
   "cell_type": "code",
   "execution_count": 1,
   "metadata": {
    "pycharm": {
     "name": "#%%\n"
    }
   },
   "outputs": [],
   "source": [
    "import csv\n",
    "import tensorflow as tf\n",
    "import numpy as np\n",
    "from tensorflow.keras.preprocessing.text import Tokenizer\n",
    "from tensorflow.keras.preprocessing.sequence import pad_sequences\n",
    "\n",
    "stopwords = [ \"a\", \"about\", \"above\", \"after\", \"again\", \"against\", \"all\", \"am\", \"an\", \"and\", \"any\", \"are\", \"as\", \"at\", \"be\", \"because\", \"been\", \"before\", \"being\", \"below\", \"between\", \"both\", \"but\", \"by\", \"could\", \"did\", \"do\", \"does\", \"doing\", \"down\", \"during\", \"each\", \"few\", \"for\", \"from\", \"further\", \"had\", \"has\", \"have\", \"having\", \"he\", \"he'd\", \"he'll\", \"he's\", \"her\", \"here\", \"here's\", \"hers\", \"herself\", \"him\", \"himself\", \"his\", \"how\", \"how's\", \"i\", \"i'd\", \"i'll\", \"i'm\", \"i've\", \"if\", \"in\", \"into\", \"is\", \"it\", \"it's\", \"its\", \"itself\", \"let's\", \"me\", \"more\", \"most\", \"my\", \"myself\", \"nor\", \"of\", \"on\", \"once\", \"only\", \"or\", \"other\", \"ought\", \"our\", \"ours\", \"ourselves\", \"out\", \"over\", \"own\", \"same\", \"she\", \"she'd\", \"she'll\", \"she's\", \"should\", \"so\", \"some\", \"such\", \"than\", \"that\", \"that's\", \"the\", \"their\", \"theirs\", \"them\", \"themselves\", \"then\", \"there\", \"there's\", \"these\", \"they\", \"they'd\", \"they'll\", \"they're\", \"they've\", \"this\", \"those\", \"through\", \"to\", \"too\", \"under\", \"until\", \"up\", \"very\", \"was\", \"we\", \"we'd\", \"we'll\", \"we're\", \"we've\", \"were\", \"what\", \"what's\", \"when\", \"when's\", \"where\", \"where's\", \"which\", \"while\", \"who\", \"who's\", \"whom\", \"why\", \"why's\", \"with\", \"would\", \"you\", \"you'd\", \"you'll\", \"you're\", \"you've\", \"your\", \"yours\", \"yourself\", \"yourselves\" ]"
   ]
  },
  {
   "cell_type": "code",
   "execution_count": 3,
   "metadata": {
    "pycharm": {
     "name": "#%%\n"
    }
   },
   "outputs": [],
   "source": [
    "vocab_size =1000\n",
    "embedding_dim =16\n",
    "max_length =120\n",
    "trunc_type='post'\n",
    "padding_type='post'\n",
    "oov_token='<OOV>'\n",
    "training_portion=0.8"
   ]
  },
  {
   "cell_type": "code",
   "execution_count": 4,
   "metadata": {
    "pycharm": {
     "name": "#%%\n"
    }
   },
   "outputs": [
    {
     "name": "stdout",
     "output_type": "stream",
     "text": [
      "153\n"
     ]
    }
   ],
   "source": [
    "bdir = 'D:\\\\Other\\\\datasets\\\\'\n",
    "sentences = []\n",
    "labels = []\n",
    "print(len(stopwords))"
   ]
  },
  {
   "cell_type": "code",
   "execution_count": 5,
   "metadata": {
    "pycharm": {
     "name": "#%%\n"
    }
   },
   "outputs": [
    {
     "name": "stdout",
     "output_type": "stream",
     "text": [
      "2225\n",
      "tv future hands viewers home theatre systems plasma high-definition tvs digital video recorders moving living room way people watch tv will radically different five years time. according expert panel gathered annual consumer electronics show las vegas discuss new technologies will impact one favourite pastimes. us leading trend programmes content will delivered viewers via home networks cable satellite telecoms companies broadband service providers front rooms portable devices. one talked-about technologies ces digital personal video recorders (dvr pvr). set-top boxes like us s tivo uk s sky+ system allow people record store play pause forward wind tv programmes want. essentially technology allows much personalised tv. also built-in high-definition tv sets big business japan us slower take off europe lack high-definition programming. not can people forward wind adverts can also forget abiding network channel schedules putting together a-la-carte entertainment. us networks cable satellite companies worried means terms advertising revenues well brand identity viewer loyalty channels. although us leads technology moment also concern raised europe particularly growing uptake services like sky+. happens today will see nine months years time uk adam hume bbc broadcast s futurologist told bbc news website. likes bbc no issues lost advertising revenue yet. pressing issue moment commercial uk broadcasters brand loyalty important everyone. will talking content brands rather network brands said tim hanlon brand communications firm starcom mediavest. reality broadband connections anybody can producer content. added: challenge now hard promote programme much choice. means said stacey jolna senior vice president tv guide tv group way people find content want watch simplified tv viewers. means networks us terms channels take leaf google s book search engine future instead scheduler help people find want watch. kind channel model might work younger ipod generation used taking control gadgets play them. might not suit everyone panel recognised. older generations comfortable familiar schedules channel brands know getting. perhaps not want much choice put hands mr hanlon suggested. end kids just diapers pushing buttons already - everything possible available said mr hanlon. ultimately consumer will tell market want. 50 000 new gadgets technologies showcased ces many enhancing tv-watching experience. high-definition tv sets everywhere many new models lcd (liquid crystal display) tvs launched dvr capability built instead external boxes. one example launched show humax s 26-inch lcd tv 80-hour tivo dvr dvd recorder. one us s biggest satellite tv companies directtv even launched branded dvr show 100-hours recording capability instant replay search function. set can pause rewind tv 90 hours. microsoft chief bill gates announced pre-show keynote speech partnership tivo called tivotogo means people can play recorded programmes windows pcs mobile devices. reflect increasing trend freeing multimedia people can watch want want.\n"
     ]
    }
   ],
   "source": [
    "with open(bdir+'bbc-text.csv') as csvfile:\n",
    "    reader = csv.reader(csvfile)\n",
    "    next(reader)\n",
    "    for row in reader:\n",
    "        labels.append(row[0])\n",
    "        sen = \" \".join([r for r in row[1].split() if r not in stopwords])\n",
    "        sentences.append(sen)\n",
    "print(len(sentences))\n",
    "print(sentences[0])"
   ]
  },
  {
   "cell_type": "code",
   "execution_count": 8,
   "metadata": {
    "pycharm": {
     "name": "#%%\n"
    }
   },
   "outputs": [
    {
     "name": "stdout",
     "output_type": "stream",
     "text": [
      "1780\n",
      "1780\n",
      "1780\n",
      "445\n",
      "445\n"
     ]
    }
   ],
   "source": [
    "train_size = int(len(sentences)*training_portion)\n",
    "train_sentences = sentences[:train_size]\n",
    "train_labels = labels[:train_size]\n",
    "\n",
    "validation_sentences = sentences[train_size:]\n",
    "validation_labels = labels[train_size:]\n",
    "\n",
    "print(train_size)\n",
    "print(len(train_sentences))\n",
    "print(len(train_labels))\n",
    "print(len(validation_sentences))\n",
    "print(len(validation_labels))"
   ]
  },
  {
   "cell_type": "code",
   "execution_count": 24,
   "metadata": {
    "pycharm": {
     "name": "#%%\n"
    }
   },
   "outputs": [
    {
     "name": "stdout",
     "output_type": "stream",
     "text": [
      "449\n",
      "120\n",
      "200\n",
      "120\n",
      "192\n",
      "120\n"
     ]
    }
   ],
   "source": [
    "tokenizer = Tokenizer(oov_token=oov_token, num_words=vocab_size)\n",
    "tokenizer.fit_on_texts(train_sentences)\n",
    "word_index = tokenizer.word_index\n",
    "\n",
    "train_sequences = tokenizer.texts_to_sequences(train_sentences)\n",
    "train_padded = pad_sequences(train_sequences, padding=padding_type,\n",
    "                             truncating=trunc_type, maxlen=max_length)\n",
    "\n",
    "print(len(train_sequences[0]))\n",
    "print(len(train_padded[0]))\n",
    "\n",
    "print(len(train_sequences[1]))\n",
    "print(len(train_padded[1]))\n",
    "\n",
    "print(len(train_sequences[10]))\n",
    "print(len(train_padded[10]))"
   ]
  },
  {
   "cell_type": "code",
   "execution_count": 25,
   "metadata": {
    "pycharm": {
     "name": "#%%\n"
    }
   },
   "outputs": [
    {
     "name": "stdout",
     "output_type": "stream",
     "text": [
      "445\n",
      "(445, 120)\n"
     ]
    }
   ],
   "source": [
    "validation_sequences = tokenizer.texts_to_sequences(validation_sentences)\n",
    "validation_padded = pad_sequences(validation_sequences, padding=padding_type,\n",
    "                                  truncating=trunc_type, maxlen=max_length)\n",
    "\n",
    "\n",
    "print(len(validation_sequences))\n",
    "print(validation_padded.shape)"
   ]
  },
  {
   "cell_type": "code",
   "execution_count": 26,
   "metadata": {
    "pycharm": {
     "name": "#%%\n"
    }
   },
   "outputs": [
    {
     "name": "stdout",
     "output_type": "stream",
     "text": [
      "[4]\n",
      "[2]\n",
      "[1]\n",
      "(1780, 1)\n",
      "[5]\n",
      "[4]\n",
      "[3]\n",
      "(445, 1)\n"
     ]
    }
   ],
   "source": [
    "label_tokenizer = Tokenizer()\n",
    "label_tokenizer.fit_on_texts(labels)\n",
    "\n",
    "training_label_seq = np.array(label_tokenizer.texts_to_sequences(train_labels))\n",
    "validation_label_seq = np.array(label_tokenizer.texts_to_sequences(validation_labels))\n",
    "\n",
    "\n",
    "print(training_label_seq[0])\n",
    "print(training_label_seq[1])\n",
    "print(training_label_seq[2])\n",
    "print(training_label_seq.shape)\n",
    "\n",
    "print(validation_label_seq[0])\n",
    "print(validation_label_seq[1])\n",
    "print(validation_label_seq[2])\n",
    "print(validation_label_seq.shape)"
   ]
  },
  {
   "cell_type": "code",
   "execution_count": 27,
   "metadata": {
    "pycharm": {
     "name": "#%%\n"
    }
   },
   "outputs": [
    {
     "name": "stdout",
     "output_type": "stream",
     "text": [
      "Model: \"sequential_2\"\n",
      "_________________________________________________________________\n",
      "Layer (type)                 Output Shape              Param #   \n",
      "=================================================================\n",
      "embedding_2 (Embedding)      (None, 120, 16)           16000     \n",
      "_________________________________________________________________\n",
      "global_average_pooling1d_2 ( (None, 16)                0         \n",
      "_________________________________________________________________\n",
      "dense_4 (Dense)              (None, 24)                408       \n",
      "_________________________________________________________________\n",
      "dense_5 (Dense)              (None, 6)                 150       \n",
      "=================================================================\n",
      "Total params: 16,558\n",
      "Trainable params: 16,558\n",
      "Non-trainable params: 0\n",
      "_________________________________________________________________\n"
     ]
    }
   ],
   "source": [
    "model = tf.keras.Sequential([\n",
    "    tf.keras.layers.Embedding(vocab_size,embedding_dim, input_length=max_length),\n",
    "    tf.keras.layers.GlobalAveragePooling1D(),\n",
    "    tf.keras.layers.Dense(24, activation=tf.nn.relu),\n",
    "    tf.keras.layers.Dense(6, activation='softmax')\n",
    "])\n",
    "\n",
    "model.compile(optimizer='adam',\n",
    "              loss='sparse_categorical_crossentropy',\n",
    "              metrics=['accuracy'])\n",
    "\n",
    "model.summary()"
   ]
  },
  {
   "cell_type": "code",
   "execution_count": 28,
   "metadata": {
    "pycharm": {
     "name": "#%%\n"
    }
   },
   "outputs": [
    {
     "name": "stdout",
     "output_type": "stream",
     "text": [
      "Epoch 1/30\n",
      "56/56 - 2s - loss: 1.7567 - accuracy: 0.2270 - val_loss: 1.7162 - val_accuracy: 0.2382\n",
      "Epoch 2/30\n",
      "56/56 - 0s - loss: 1.6727 - accuracy: 0.2270 - val_loss: 1.6315 - val_accuracy: 0.2382\n",
      "Epoch 3/30\n",
      "56/56 - 0s - loss: 1.5893 - accuracy: 0.3848 - val_loss: 1.5479 - val_accuracy: 0.4225\n",
      "Epoch 4/30\n",
      "56/56 - 0s - loss: 1.4856 - accuracy: 0.4506 - val_loss: 1.4321 - val_accuracy: 0.4494\n",
      "Epoch 5/30\n",
      "56/56 - 0s - loss: 1.3328 - accuracy: 0.4983 - val_loss: 1.2566 - val_accuracy: 0.5551\n",
      "Epoch 6/30\n",
      "56/56 - 0s - loss: 1.1318 - accuracy: 0.6275 - val_loss: 1.0607 - val_accuracy: 0.7483\n",
      "Epoch 7/30\n",
      "56/56 - 0s - loss: 0.9263 - accuracy: 0.8242 - val_loss: 0.8710 - val_accuracy: 0.8494\n",
      "Epoch 8/30\n",
      "56/56 - 0s - loss: 0.7434 - accuracy: 0.8904 - val_loss: 0.7193 - val_accuracy: 0.8989\n",
      "Epoch 9/30\n",
      "56/56 - 0s - loss: 0.5899 - accuracy: 0.9258 - val_loss: 0.5908 - val_accuracy: 0.9034\n",
      "Epoch 10/30\n",
      "56/56 - 0s - loss: 0.4668 - accuracy: 0.9393 - val_loss: 0.4935 - val_accuracy: 0.9146\n",
      "Epoch 11/30\n",
      "56/56 - 0s - loss: 0.3747 - accuracy: 0.9500 - val_loss: 0.4202 - val_accuracy: 0.9191\n",
      "Epoch 12/30\n",
      "56/56 - 0s - loss: 0.3067 - accuracy: 0.9539 - val_loss: 0.3695 - val_accuracy: 0.9213\n",
      "Epoch 13/30\n",
      "56/56 - 0s - loss: 0.2562 - accuracy: 0.9601 - val_loss: 0.3311 - val_accuracy: 0.9303\n",
      "Epoch 14/30\n",
      "56/56 - 0s - loss: 0.2183 - accuracy: 0.9657 - val_loss: 0.3071 - val_accuracy: 0.9236\n",
      "Epoch 15/30\n",
      "56/56 - 0s - loss: 0.1893 - accuracy: 0.9713 - val_loss: 0.2818 - val_accuracy: 0.9326\n",
      "Epoch 16/30\n",
      "56/56 - 0s - loss: 0.1657 - accuracy: 0.9742 - val_loss: 0.2688 - val_accuracy: 0.9348\n",
      "Epoch 17/30\n",
      "56/56 - 0s - loss: 0.1471 - accuracy: 0.9764 - val_loss: 0.2582 - val_accuracy: 0.9326\n",
      "Epoch 18/30\n",
      "56/56 - 0s - loss: 0.1301 - accuracy: 0.9792 - val_loss: 0.2521 - val_accuracy: 0.9348\n",
      "Epoch 19/30\n",
      "56/56 - 0s - loss: 0.1165 - accuracy: 0.9792 - val_loss: 0.2378 - val_accuracy: 0.9348\n",
      "Epoch 20/30\n",
      "56/56 - 0s - loss: 0.1044 - accuracy: 0.9815 - val_loss: 0.2314 - val_accuracy: 0.9393\n",
      "Epoch 21/30\n",
      "56/56 - 0s - loss: 0.0943 - accuracy: 0.9854 - val_loss: 0.2283 - val_accuracy: 0.9348\n",
      "Epoch 22/30\n",
      "56/56 - 0s - loss: 0.0854 - accuracy: 0.9871 - val_loss: 0.2245 - val_accuracy: 0.9371\n",
      "Epoch 23/30\n",
      "56/56 - 0s - loss: 0.0772 - accuracy: 0.9882 - val_loss: 0.2201 - val_accuracy: 0.9393\n",
      "Epoch 24/30\n",
      "56/56 - 0s - loss: 0.0702 - accuracy: 0.9910 - val_loss: 0.2190 - val_accuracy: 0.9416\n",
      "Epoch 25/30\n",
      "56/56 - 0s - loss: 0.0634 - accuracy: 0.9927 - val_loss: 0.2133 - val_accuracy: 0.9393\n",
      "Epoch 26/30\n",
      "56/56 - 0s - loss: 0.0578 - accuracy: 0.9944 - val_loss: 0.2127 - val_accuracy: 0.9416\n",
      "Epoch 27/30\n",
      "56/56 - 0s - loss: 0.0524 - accuracy: 0.9949 - val_loss: 0.2101 - val_accuracy: 0.9393\n",
      "Epoch 28/30\n",
      "56/56 - 0s - loss: 0.0480 - accuracy: 0.9961 - val_loss: 0.2104 - val_accuracy: 0.9393\n",
      "Epoch 29/30\n",
      "56/56 - 0s - loss: 0.0441 - accuracy: 0.9961 - val_loss: 0.2113 - val_accuracy: 0.9371\n",
      "Epoch 30/30\n",
      "56/56 - 0s - loss: 0.0401 - accuracy: 0.9966 - val_loss: 0.2113 - val_accuracy: 0.9416\n"
     ]
    }
   ],
   "source": [
    "num_epochs = 30\n",
    "history = model.fit(train_padded,\n",
    "                    training_label_seq,\n",
    "                    epochs=num_epochs,\n",
    "                    validation_data=(validation_padded, validation_label_seq),\n",
    "                    verbose=2)"
   ]
  },
  {
   "cell_type": "code",
   "execution_count": 29,
   "metadata": {
    "pycharm": {
     "name": "#%%\n"
    }
   },
   "outputs": [
    {
     "data": {
      "image/png": "[encoded data removed]",
      "text/plain": [
       "<Figure size 432x288 with 1 Axes>"
      ]
     },
     "metadata": {
      "needs_background": "light"
     },
     "output_type": "display_data"
    },
    {
     "data": {
      "image/png": "[encoded data removed]",
      "text/plain": [
       "<Figure size 432x288 with 1 Axes>"
      ]
     },
     "metadata": {
      "needs_background": "light"
     },
     "output_type": "display_data"
    }
   ],
   "source": [
    "import matplotlib.pyplot as plt\n",
    "\n",
    "\n",
    "def plot_graphs(history, string):\n",
    "  plt.plot(history.history[string])\n",
    "  plt.plot(history.history['val_'+string])\n",
    "  plt.xlabel(\"Epochs\")\n",
    "  plt.ylabel(string)\n",
    "  plt.legend([string, 'val_'+string])\n",
    "  plt.show()\n",
    "\n",
    "plot_graphs(history, \"accuracy\")\n",
    "plot_graphs(history, \"loss\")"
   ]
  },
  {
   "cell_type": "code",
   "execution_count": 30,
   "metadata": {
    "pycharm": {
     "name": "#%%\n"
    }
   },
   "outputs": [],
   "source": [
    "reverse_word_index = dict([(value, key) for (key, value) in word_index.items()])\n",
    "\n",
    "def decode_sentence(text):\n",
    "    return ' '.join([reverse_word_index.get(i, '?') for i in text])\n",
    "\n"
   ]
  },
  {
   "cell_type": "code",
   "execution_count": 31,
   "metadata": {
    "pycharm": {
     "name": "#%%\n"
    }
   },
   "outputs": [
    {
     "name": "stdout",
     "output_type": "stream",
     "text": [
      "(1000, 16)\n"
     ]
    }
   ],
   "source": [
    "e = model.layers[0]\n",
    "weights = e.get_weights()[0]\n",
    "print(weights.shape)"
   ]
  },
  {
   "cell_type": "code",
   "execution_count": null,
   "metadata": {
    "pycharm": {
     "name": "#%%\n"
    }
   },
   "outputs": [],
   "source": []
  }
 ],
 "metadata": {
  "kernelspec": {
   "display_name": "Python 3 (ipykernel)",
   "language": "python",
   "name": "python3"
  },
  "language_info": {
   "codemirror_mode": {
    "name": "ipython",
    "version": 2
   },
   "file_extension": ".py",
   "mimetype": "text/x-python",
   "name": "python",
   "nbconvert_exporter": "python",
   "pygments_lexer": "ipython2",
   "version": "2.7.6"
  }
 },
 "nbformat": 4,
 "nbformat_minor": 1
}
